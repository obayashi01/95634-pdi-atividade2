{
 "cells": [
  {
   "cell_type": "code",
   "execution_count": 56,
   "metadata": {},
   "outputs": [],
   "source": [
    "import cv2\n",
    "import matplotlib.pyplot as plt\n",
    "import numpy as np"
   ]
  },
  {
   "cell_type": "code",
   "execution_count": 63,
   "metadata": {},
   "outputs": [],
   "source": [
    "## Implementar a função que identifica a bandeira\n",
    "## A função deve receber uma imagem e retornar a bandeira identificada\n",
    "## A função deve retornar uma lista de tuplas no formato:\n",
    "## [(PAIS, (x1, y1), (x2, y2)), (PAIS, (x1, y1), (x2, y2)), ...]\n",
    "\n",
    "def identifica_bandeira(img):\n",
    "    lista_bandeiras = []\n",
    "    \n",
    "    # Converter para HSV para melhor análise de cores\n",
    "    hsv = cv2.cvtColor(img, cv2.COLOR_BGR2HSV)\n",
    "\n",
    "    # Converter para escala de cinza e aplicar limiarização\n",
    "    gray = cv2.cvtColor(img, cv2.COLOR_BGR2GRAY)\n",
    "    _, thresh = cv2.threshold(gray, 128, 255, cv2.THRESH_BINARY)\n",
    "    \n",
    "    # Encontrar contornos das possíveis bandeiras\n",
    "    contours, _ = cv2.findContours(thresh, cv2.RETR_EXTERNAL, cv2.CHAIN_APPROX_SIMPLE)\n",
    "\n",
    "    for contour in contours:\n",
    "        x, y, w, h = cv2.boundingRect(contour)\n",
    "        \n",
    "        # Filtrar objetos muito pequenos\n",
    "        if w < 50 or h < 30:\n",
    "            continue\n",
    "        \n",
    "        # Calcular a proporção da bandeira\n",
    "        proporcao = w / h\n",
    "\n",
    "        # Extrair a região de interesse (ROI)\n",
    "        roi_hsv = hsv[y:y+h, x:x+w]\n",
    "\n",
    "        # Dividir a bandeira em duas partes horizontais\n",
    "        top = roi_hsv[:h//2, :]\n",
    "        bottom = roi_hsv[h//2:, :]\n",
    "\n",
    "        mean_top = np.mean(top, axis=(0, 1))  # Cor da parte superior\n",
    "        mean_bottom = np.mean(bottom, axis=(0, 1))  # Cor da parte inferior\n",
    "\n",
    "        # Verifica se é Peru (vermelho nas laterais, branco no centro)\n",
    "        left = roi_hsv[:, :w//3]\n",
    "        center = roi_hsv[:, w//3:2*w//3]\n",
    "        right = roi_hsv[:, 2*w//3:]\n",
    "\n",
    "        mean_left = np.mean(left, axis=(0, 1))\n",
    "        mean_center = np.mean(center, axis=(0, 1))\n",
    "        mean_right = np.mean(right, axis=(0, 1))\n",
    "\n",
    "        if mean_left[2] > 100 and mean_right[2] > 100 and mean_center[1] < 50:\n",
    "            pais = \"peru\"\n",
    "\n",
    "        # Verifica se é Mônaco, Indonésia ou Singapura\n",
    "        elif mean_top[0] > 150 and mean_bottom[0] < 50:  # Parte superior vermelha, inferior branca\n",
    "            if 1.2 <= proporcao <= 1.35:  # Proporção de Mônaco (4:5)\n",
    "                pais = \"monaco\"\n",
    "            else:  # Indonésia tem proporção 2:3\n",
    "                pais = \"indonesia\"\n",
    "\n",
    "            # Detectar símbolos na parte vermelha (Singapura)\n",
    "            top_gray = cv2.cvtColor(top, cv2.COLOR_HSV2BGR)\n",
    "            top_gray = cv2.cvtColor(top_gray, cv2.COLOR_BGR2GRAY)\n",
    "            _, top_thresh = cv2.threshold(top_gray, 200, 255, cv2.THRESH_BINARY)\n",
    "            symbol_contours, _ = cv2.findContours(top_thresh, cv2.RETR_EXTERNAL, cv2.CHAIN_APPROX_SIMPLE)\n",
    "\n",
    "            if len(symbol_contours) > 0:  # Se houver símbolos, é Singapura\n",
    "                pais = \"singapura\"\n",
    "\n",
    "        else:\n",
    "            pais = \"desconhecido\"\n",
    "\n",
    "        lista_bandeiras.append((pais, (x, y), (x+w, y+h)))\n",
    "\n",
    "    return lista_bandeiras"
   ]
  },
  {
   "cell_type": "code",
   "execution_count": null,
   "metadata": {},
   "outputs": [],
   "source": []
  },
  {
   "cell_type": "code",
   "execution_count": null,
   "metadata": {},
   "outputs": [],
   "source": []
  },
  {
   "cell_type": "code",
   "execution_count": 58,
   "metadata": {},
   "outputs": [],
   "source": [
    "## nao alterar essa função\n",
    "# Função para desenhar as bandeiras identificadas\n",
    "def draw_bandeiras(lista_bandeiras, bgr):\n",
    "    try:\n",
    "        for bandeira in lista_bandeiras:\n",
    "            cv2.rectangle(bgr, bandeira[1], bandeira[2], (255, 0, 0), 5)\n",
    "            cv2.putText(bgr, bandeira[0], bandeira[1], cv2.FONT_HERSHEY_SIMPLEX, 1, (255, 0, 0), 2, cv2.LINE_AA)\n",
    "        return bgr\n",
    "    except Exception as e:\n",
    "        return bgr"
   ]
  },
  {
   "cell_type": "code",
   "execution_count": 64,
   "metadata": {},
   "outputs": [
    {
     "name": "stdout",
     "output_type": "stream",
     "text": [
      "[('peru', (192, 585), (457, 673)), ('peru', (726, 266), (984, 369)), ('peru', (206, 121), (293, 295))]\n"
     ]
    },
    {
     "data": {
      "image/png": "[encoded data removed]",
      "text/plain": [
       "<Figure size 640x480 with 1 Axes>"
      ]
     },
     "metadata": {},
     "output_type": "display_data"
    }
   ],
   "source": [
    "## Para testar a função identifica_bandeira\n",
    "\n",
    "# Você pode testar a função identifica_bandeira com as imagens de teste fornecidas\n",
    "# \n",
    "img = cv2.imread('img/teste1.png')\n",
    "#img = cv2.imread('img/teste2.png')\n",
    "#img = cv2.imread('img/teste3.png')\n",
    "#img = cv2.imread('img/teste4.png')\n",
    "\n",
    "# Chamar a função identifica_bandeira\n",
    "resultado = identifica_bandeira(img)\n",
    "\n",
    "# Imprimir o resultado da função identifica_bandeira \n",
    "print(resultado)\n",
    "\n",
    "# Desenhar as bandeiras na imagem\n",
    "bgr = draw_bandeiras(resultado, img)\n",
    "plt.imshow(cv2.cvtColor(bgr, cv2.COLOR_BGR2RGB))\n",
    "plt.show()\n",
    "\n",
    "\n"
   ]
  },
  {
   "cell_type": "code",
   "execution_count": null,
   "metadata": {},
   "outputs": [
    {
     "name": "stdout",
     "output_type": "stream",
     "text": [
      "[('peru', (192, 585), (457, 673)), ('peru', (726, 266), (984, 369)), ('peru', (206, 121), (293, 295))]\n"
     ]
    },
    {
     "data": {
      "image/png": "[encoded data removed]",
      "text/plain": [
       "<Figure size 640x480 with 1 Axes>"
      ]
     },
     "metadata": {},
     "output_type": "display_data"
    }
   ],
   "source": [
    "## Para testar a função identifica_bandeira\n",
    "\n",
    "# Você pode testar a função identifica_bandeira com as imagens de teste fornecidas\n",
    "# \n",
    "img = cv2.imread('img/teste1.png')\n",
    "#img = cv2.imread('img/teste2.png')\n",
    "#img = cv2.imread('img/teste3.png')\n",
    "#img = cv2.imread('img/teste4.png')\n",
    "\n",
    "# Chamar a função identifica_bandeira\n",
    "resultado = identifica_bandeira(img)\n",
    "\n",
    "# Imprimir o resultado da função identifica_bandeira \n",
    "print(resultado)\n",
    "\n",
    "# Desenhar as bandeiras na imagem\n",
    "bgr = draw_bandeiras(resultado, img)\n",
    "plt.imshow(cv2.cvtColor(bgr, cv2.COLOR_BGR2RGB))\n",
    "plt.show()\n",
    "\n",
    "\n"
   ]
  },
  {
   "cell_type": "code",
   "execution_count": null,
   "metadata": {},
   "outputs": [],
   "source": []
  }
 ],
 "metadata": {
  "kernelspec": {
   "display_name": "Python 3",
   "language": "python",
   "name": "python3"
  },
  "language_info": {
   "codemirror_mode": {
    "name": "ipython",
    "version": 3
   },
   "file_extension": ".py",
   "mimetype": "text/x-python",
   "name": "python",
   "nbconvert_exporter": "python",
   "pygments_lexer": "ipython3",
   "version": "3.13.2"
  }
 },
 "nbformat": 4,
 "nbformat_minor": 2
}
